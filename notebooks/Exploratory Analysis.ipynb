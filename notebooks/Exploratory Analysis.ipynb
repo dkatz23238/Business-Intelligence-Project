{
 "cells": [
  {
   "cell_type": "code",
   "execution_count": 51,
   "metadata": {},
   "outputs": [],
   "source": [
    "import pymongo\n",
    "import pandas as pd\n",
    "import matplotlib.pyplot as plt\n",
    "pd.options.display.max_columns = 999\n",
    "DB_NAME = \"BI_COMMERCE\"\n",
    "\n",
    "client = pymongo.MongoClient()\n",
    "db = client[DB_NAME]\n",
    "\n",
    "\n",
    "collection_names = ['brazilian-ecommerce/olist_public_dataset_v2',\n",
    "                    'brazilian-ecommerce/product_category_name_translation',\n",
    "                    'brazilian-ecommerce/payments_olist_public_dataset',\n",
    "                    'brazilian-ecommerce/product_measures_olist_public_dataset_',\n",
    "                    'brazilian-ecommerce/geolocation_olist_public_dataset',\n",
    "                    'brazilian-ecommerce/olist_classified_public_dataset',\n",
    "                    'brazilian-ecommerce/sellers_olist_public_dataset_',\n",
    "                    'brazilian-ecommerce/olist_public_dataset_v2_customers']\n"
   ]
  },
  {
   "cell_type": "code",
   "execution_count": 52,
   "metadata": {},
   "outputs": [],
   "source": [
    "# Read in data from the mongo db database\n",
    "\n",
    "k = collection_names[0]\n",
    "public = pd.DataFrame(list(db[k].find()))\n",
    "del public[\"_id\"]\n",
    "k = collection_names[1]\n",
    "cat_names = pd.DataFrame(list(db[k].find()))\n",
    "del cat_names[\"_id\"]\n",
    "k = collection_names[2]\n",
    "payments = pd.DataFrame(list(db[k].find()))\n",
    "del payments[\"_id\"]\n",
    "k = collection_names[3]\n",
    "products = pd.DataFrame(list(db[k].find()))\n",
    "del products[\"_id\"]\n",
    "k = collection_names[4]\n",
    "geo_loc = pd.DataFrame(list(db[k].find()))\n",
    "del geo_loc[\"_id\"]\n",
    "k = collection_names[5]\n",
    "classified = pd.DataFrame(list(db[k].find()))\n",
    "del classified[\"_id\"]\n",
    "k = collection_names[6]\n",
    "sellers = pd.DataFrame(list(db[k].find()))\n",
    "del sellers[\"_id\"]\n",
    "k = collection_names[7]\n",
    "public_customers = pd.DataFrame(list(db[k].find()))\n",
    "del public_customers[\"_id\"]\n",
    "\n"
   ]
  },
  {
   "cell_type": "code",
   "execution_count": 53,
   "metadata": {},
   "outputs": [],
   "source": [
    "public.order_purchase_timestamp = pd.to_datetime(public.order_purchase_timestamp)\n",
    "public[\"month\"] = public.order_purchase_timestamp.apply(lambda x:x.month)\n",
    "public[\"year\"] = public.order_purchase_timestamp.apply(lambda x:x.year)\n",
    "public[\"first_day_month\"] = public.order_purchase_timestamp.apply(lambda x:x.replace(day=1, minute=0, hour=0, second=0))\n",
    "public[\"order_product\"] = public[\"order_id\"]+\"_\"+public[\"product_id\"]"
   ]
  },
  {
   "cell_type": "code",
   "execution_count": 96,
   "metadata": {},
   "outputs": [],
   "source": [
    "myvar = public.order_id.unique()[89]\n",
    "public.to_csv(\"orders_general.csv\")"
   ]
  },
  {
   "cell_type": "code",
   "execution_count": 98,
   "metadata": {},
   "outputs": [
    {
     "data": {
      "text/html": [
       "<div>\n",
       "<table border=\"1\" class=\"dataframe\">\n",
       "  <thead>\n",
       "    <tr style=\"text-align: right;\">\n",
       "      <th></th>\n",
       "      <th>product_category_name</th>\n",
       "      <th>product_category_name_english</th>\n",
       "    </tr>\n",
       "  </thead>\n",
       "  <tbody>\n",
       "    <tr>\n",
       "      <th>0</th>\n",
       "      <td>beleza_saude</td>\n",
       "      <td>health_beauty</td>\n",
       "    </tr>\n",
       "    <tr>\n",
       "      <th>1</th>\n",
       "      <td>informatica_acessorios</td>\n",
       "      <td>computers_accessories</td>\n",
       "    </tr>\n",
       "    <tr>\n",
       "      <th>2</th>\n",
       "      <td>automotivo</td>\n",
       "      <td>auto</td>\n",
       "    </tr>\n",
       "    <tr>\n",
       "      <th>3</th>\n",
       "      <td>cama_mesa_banho</td>\n",
       "      <td>bed_bath_table</td>\n",
       "    </tr>\n",
       "    <tr>\n",
       "      <th>4</th>\n",
       "      <td>moveis_decoracao</td>\n",
       "      <td>furniture_decor</td>\n",
       "    </tr>\n",
       "  </tbody>\n",
       "</table>\n",
       "</div>"
      ],
      "text/plain": [
       "    product_category_name product_category_name_english\n",
       "0            beleza_saude                 health_beauty\n",
       "1  informatica_acessorios         computers_accessories\n",
       "2              automotivo                          auto\n",
       "3         cama_mesa_banho                bed_bath_table\n",
       "4        moveis_decoracao               furniture_decor"
      ]
     },
     "execution_count": 98,
     "metadata": {},
     "output_type": "execute_result"
    }
   ],
   "source": [
    "\n",
    "cat_names.to_csv(\"category_names.csv\")\n",
    "cat_names.head()"
   ]
  },
  {
   "cell_type": "code",
   "execution_count": 99,
   "metadata": {},
   "outputs": [
    {
     "data": {
      "text/html": [
       "<div>\n",
       "<table border=\"1\" class=\"dataframe\">\n",
       "  <thead>\n",
       "    <tr style=\"text-align: right;\">\n",
       "      <th></th>\n",
       "      <th>installments</th>\n",
       "      <th>order_id</th>\n",
       "      <th>payment_type</th>\n",
       "      <th>sequential</th>\n",
       "      <th>value</th>\n",
       "    </tr>\n",
       "  </thead>\n",
       "  <tbody>\n",
       "    <tr>\n",
       "      <th>0</th>\n",
       "      <td>1</td>\n",
       "      <td>25e8ea4e93396b6fa0d3dd708e76c1bd</td>\n",
       "      <td>credit_card</td>\n",
       "      <td>1</td>\n",
       "      <td>65.71</td>\n",
       "    </tr>\n",
       "    <tr>\n",
       "      <th>1</th>\n",
       "      <td>8</td>\n",
       "      <td>ba78997921bbcdc1373bb41e913ab953</td>\n",
       "      <td>credit_card</td>\n",
       "      <td>1</td>\n",
       "      <td>107.78</td>\n",
       "    </tr>\n",
       "    <tr>\n",
       "      <th>2</th>\n",
       "      <td>2</td>\n",
       "      <td>42fdf880ba16b47b59251dd489d4441a</td>\n",
       "      <td>credit_card</td>\n",
       "      <td>1</td>\n",
       "      <td>128.45</td>\n",
       "    </tr>\n",
       "    <tr>\n",
       "      <th>3</th>\n",
       "      <td>1</td>\n",
       "      <td>771ee386b001f06208a7419e4fc1bbd7</td>\n",
       "      <td>credit_card</td>\n",
       "      <td>1</td>\n",
       "      <td>81.16</td>\n",
       "    </tr>\n",
       "    <tr>\n",
       "      <th>4</th>\n",
       "      <td>1</td>\n",
       "      <td>62fe0bd75deb58982ebf8e53a128a301</td>\n",
       "      <td>credit_card</td>\n",
       "      <td>1</td>\n",
       "      <td>15.82</td>\n",
       "    </tr>\n",
       "  </tbody>\n",
       "</table>\n",
       "</div>"
      ],
      "text/plain": [
       "   installments                          order_id payment_type  sequential  \\\n",
       "0             1  25e8ea4e93396b6fa0d3dd708e76c1bd  credit_card           1   \n",
       "1             8  ba78997921bbcdc1373bb41e913ab953  credit_card           1   \n",
       "2             2  42fdf880ba16b47b59251dd489d4441a  credit_card           1   \n",
       "3             1  771ee386b001f06208a7419e4fc1bbd7  credit_card           1   \n",
       "4             1  62fe0bd75deb58982ebf8e53a128a301  credit_card           1   \n",
       "\n",
       "    value  \n",
       "0   65.71  \n",
       "1  107.78  \n",
       "2  128.45  \n",
       "3   81.16  \n",
       "4   15.82  "
      ]
     },
     "execution_count": 99,
     "metadata": {},
     "output_type": "execute_result"
    }
   ],
   "source": [
    "payments.to_csv(\"payments.csv\")\n",
    "payments.head()\n"
   ]
  },
  {
   "cell_type": "code",
   "execution_count": 100,
   "metadata": {},
   "outputs": [
    {
     "data": {
      "text/html": [
       "<div>\n",
       "<table border=\"1\" class=\"dataframe\">\n",
       "  <thead>\n",
       "    <tr style=\"text-align: right;\">\n",
       "      <th></th>\n",
       "      <th>product_height_cm</th>\n",
       "      <th>product_id</th>\n",
       "      <th>product_length_cm</th>\n",
       "      <th>product_weight_g</th>\n",
       "      <th>product_width_cm</th>\n",
       "    </tr>\n",
       "  </thead>\n",
       "  <tbody>\n",
       "    <tr>\n",
       "      <th>0</th>\n",
       "      <td>9.0</td>\n",
       "      <td>00faa46f36261af8bbf3a4d37fa4841b</td>\n",
       "      <td>21.0</td>\n",
       "      <td>100.0</td>\n",
       "      <td>14.0</td>\n",
       "    </tr>\n",
       "    <tr>\n",
       "      <th>1</th>\n",
       "      <td>5.0</td>\n",
       "      <td>b497d0032ea073dd58bbd2d7809d25b3</td>\n",
       "      <td>23.0</td>\n",
       "      <td>750.0</td>\n",
       "      <td>15.0</td>\n",
       "    </tr>\n",
       "    <tr>\n",
       "      <th>2</th>\n",
       "      <td>6.0</td>\n",
       "      <td>96bd76ec8810374ed1b65e291975717f</td>\n",
       "      <td>16.0</td>\n",
       "      <td>200.0</td>\n",
       "      <td>19.5</td>\n",
       "    </tr>\n",
       "    <tr>\n",
       "      <th>3</th>\n",
       "      <td>13.0</td>\n",
       "      <td>506110a1603e772a8ff52ea1f0b0431d</td>\n",
       "      <td>16.0</td>\n",
       "      <td>200.0</td>\n",
       "      <td>13.0</td>\n",
       "    </tr>\n",
       "    <tr>\n",
       "      <th>4</th>\n",
       "      <td>4.0</td>\n",
       "      <td>feb593f17c2f51af2932dbba3e99f1cb</td>\n",
       "      <td>35.0</td>\n",
       "      <td>50.0</td>\n",
       "      <td>26.0</td>\n",
       "    </tr>\n",
       "  </tbody>\n",
       "</table>\n",
       "</div>"
      ],
      "text/plain": [
       "   product_height_cm                        product_id  product_length_cm  \\\n",
       "0                9.0  00faa46f36261af8bbf3a4d37fa4841b               21.0   \n",
       "1                5.0  b497d0032ea073dd58bbd2d7809d25b3               23.0   \n",
       "2                6.0  96bd76ec8810374ed1b65e291975717f               16.0   \n",
       "3               13.0  506110a1603e772a8ff52ea1f0b0431d               16.0   \n",
       "4                4.0  feb593f17c2f51af2932dbba3e99f1cb               35.0   \n",
       "\n",
       "   product_weight_g  product_width_cm  \n",
       "0             100.0              14.0  \n",
       "1             750.0              15.0  \n",
       "2             200.0              19.5  \n",
       "3             200.0              13.0  \n",
       "4              50.0              26.0  "
      ]
     },
     "execution_count": 100,
     "metadata": {},
     "output_type": "execute_result"
    }
   ],
   "source": [
    "products.to_csv(\"products.csv\")\n",
    "products.head()"
   ]
  },
  {
   "cell_type": "code",
   "execution_count": null,
   "metadata": {},
   "outputs": [],
   "source": []
  },
  {
   "cell_type": "code",
   "execution_count": null,
   "metadata": {},
   "outputs": [],
   "source": []
  },
  {
   "cell_type": "code",
   "execution_count": 102,
   "metadata": {},
   "outputs": [
    {
     "data": {
      "text/plain": [
       "Unnamed: 0                                int64\n",
       "customer_city                            object\n",
       "customer_state                           object\n",
       "customer_zip_code_prefix                  int64\n",
       "id                                        int64\n",
       "most_voted_class                         object\n",
       "most_voted_subclass                      object\n",
       "order_aproved_at                 datetime64[ns]\n",
       "order_delivered_customer_date    datetime64[ns]\n",
       "order_estimated_delivery_date            object\n",
       "order_freight_value                     float64\n",
       "order_items_qty                           int64\n",
       "order_products_value                    float64\n",
       "order_purchase_timestamp         datetime64[ns]\n",
       "order_sellers_qty                         int64\n",
       "order_status                             object\n",
       "product_category_name                    object\n",
       "product_description_lenght                int64\n",
       "product_name_lenght                       int64\n",
       "product_photos_qty                        int64\n",
       "review_answer_timestamp          datetime64[ns]\n",
       "review_comment_message                   object\n",
       "review_creation_date             datetime64[ns]\n",
       "review_score                              int64\n",
       "votes_before_estimate                     int64\n",
       "votes_delayed                             int64\n",
       "votes_low_quality                         int64\n",
       "votes_not_as_anounced                     int64\n",
       "votes_other_delivery                      int64\n",
       "votes_other_order                         int64\n",
       "votes_partial_delivery                    int64\n",
       "votes_return                              int64\n",
       "votes_satisfied                           int64\n",
       "dtype: object"
      ]
     },
     "execution_count": 102,
     "metadata": {},
     "output_type": "execute_result"
    }
   ],
   "source": [
    "classified.order_aproved_at = pd.to_datetime(classified.order_aproved_at)\n",
    "classified.order_delivered_customer_date = pd.to_datetime(classified.order_delivered_customer_date)\n",
    "classified.order_delivered_customer_date = pd.to_datetime(classified.order_delivered_customer_date)\n",
    "classified.order_purchase_timestamp = pd.to_datetime(classified.order_purchase_timestamp)\n",
    "classified.review_answer_timestamp = pd.to_datetime(classified.review_answer_timestamp)\n",
    "classified.review_creation_date = pd.to_datetime(classified.review_creation_date)\n",
    "try:\n",
    "    del classified[\"review_comment_title\"]\n",
    "except:\n",
    "    pass\n",
    "\n",
    "classified.to_csv(\"classified_orders.csv\")\n",
    "classified.dtypes"
   ]
  },
  {
   "cell_type": "code",
   "execution_count": 103,
   "metadata": {},
   "outputs": [
    {
     "data": {
      "text/html": [
       "<div>\n",
       "<table border=\"1\" class=\"dataframe\">\n",
       "  <thead>\n",
       "    <tr style=\"text-align: right;\">\n",
       "      <th></th>\n",
       "      <th>70594</th>\n",
       "    </tr>\n",
       "  </thead>\n",
       "  <tbody>\n",
       "    <tr>\n",
       "      <th>order_id</th>\n",
       "      <td>cf5f0ccb20005e234f3e0dd745a79df7</td>\n",
       "    </tr>\n",
       "    <tr>\n",
       "      <th>product_id</th>\n",
       "      <td>78119fbfa709d07b86f5ccf15043c6d6</td>\n",
       "    </tr>\n",
       "    <tr>\n",
       "      <th>seller_city</th>\n",
       "      <td>pradopolis</td>\n",
       "    </tr>\n",
       "    <tr>\n",
       "      <th>seller_id</th>\n",
       "      <td>b33e7c55446eabf8fe1a42d037ac7d6d</td>\n",
       "    </tr>\n",
       "    <tr>\n",
       "      <th>seller_state</th>\n",
       "      <td>SP</td>\n",
       "    </tr>\n",
       "    <tr>\n",
       "      <th>seller_zip_code_prefix</th>\n",
       "      <td>148</td>\n",
       "    </tr>\n",
       "    <tr>\n",
       "      <th>order_product</th>\n",
       "      <td>cf5f0ccb20005e234f3e0dd745a79df7_78119fbfa709d...</td>\n",
       "    </tr>\n",
       "  </tbody>\n",
       "</table>\n",
       "</div>"
      ],
      "text/plain": [
       "                                                                    70594\n",
       "order_id                                 cf5f0ccb20005e234f3e0dd745a79df7\n",
       "product_id                               78119fbfa709d07b86f5ccf15043c6d6\n",
       "seller_city                                                    pradopolis\n",
       "seller_id                                b33e7c55446eabf8fe1a42d037ac7d6d\n",
       "seller_state                                                           SP\n",
       "seller_zip_code_prefix                                                148\n",
       "order_product           cf5f0ccb20005e234f3e0dd745a79df7_78119fbfa709d..."
      ]
     },
     "execution_count": 103,
     "metadata": {},
     "output_type": "execute_result"
    }
   ],
   "source": [
    "sellers.to_csv(\"sellers.csv\")\n",
    "sellers[\"order_product\"] = sellers[\"order_id\"]+\"_\"+sellers[\"product_id\"]\n",
    "sellers.query(\"order_id == @ myvar\").T"
   ]
  },
  {
   "cell_type": "code",
   "execution_count": 104,
   "metadata": {},
   "outputs": [
    {
     "data": {
      "text/html": [
       "<div>\n",
       "<table border=\"1\" class=\"dataframe\">\n",
       "  <thead>\n",
       "    <tr style=\"text-align: right;\">\n",
       "      <th></th>\n",
       "      <th>customer_id</th>\n",
       "      <th>customer_unique_id</th>\n",
       "    </tr>\n",
       "  </thead>\n",
       "  <tbody>\n",
       "    <tr>\n",
       "      <th>0</th>\n",
       "      <td>0000ca4ff2795842fd6b122c6d974468</td>\n",
       "      <td>ac0e5d7f07043dd32831bdad3b99ad26</td>\n",
       "    </tr>\n",
       "    <tr>\n",
       "      <th>1</th>\n",
       "      <td>00010f206878ba01f199aec4237de72e</td>\n",
       "      <td>4ed24aaed4079fe0661c0e4b3b420dff</td>\n",
       "    </tr>\n",
       "    <tr>\n",
       "      <th>2</th>\n",
       "      <td>00012a2ce6f8dcda20d059ce98491703</td>\n",
       "      <td>7e0e291c0f4fc2d69208954d26ed0586</td>\n",
       "    </tr>\n",
       "    <tr>\n",
       "      <th>3</th>\n",
       "      <td>000161a058600d5901f007fab4c27140</td>\n",
       "      <td>ff1dcb27ea444eddb94ea5fea77b875c</td>\n",
       "    </tr>\n",
       "    <tr>\n",
       "      <th>4</th>\n",
       "      <td>00017f1d6cce0d56046219a2cfabcbbb</td>\n",
       "      <td>237130c4b6717031ed62d9d0b16fd94f</td>\n",
       "    </tr>\n",
       "  </tbody>\n",
       "</table>\n",
       "</div>"
      ],
      "text/plain": [
       "                        customer_id                customer_unique_id\n",
       "0  0000ca4ff2795842fd6b122c6d974468  ac0e5d7f07043dd32831bdad3b99ad26\n",
       "1  00010f206878ba01f199aec4237de72e  4ed24aaed4079fe0661c0e4b3b420dff\n",
       "2  00012a2ce6f8dcda20d059ce98491703  7e0e291c0f4fc2d69208954d26ed0586\n",
       "3  000161a058600d5901f007fab4c27140  ff1dcb27ea444eddb94ea5fea77b875c\n",
       "4  00017f1d6cce0d56046219a2cfabcbbb  237130c4b6717031ed62d9d0b16fd94f"
      ]
     },
     "execution_count": 104,
     "metadata": {},
     "output_type": "execute_result"
    }
   ],
   "source": [
    "public_customers.to_csv(\"public_customers.csv\")\n",
    "public_customers.head()"
   ]
  },
  {
   "cell_type": "code",
   "execution_count": null,
   "metadata": {},
   "outputs": [],
   "source": []
  },
  {
   "cell_type": "code",
   "execution_count": null,
   "metadata": {},
   "outputs": [],
   "source": []
  },
  {
   "cell_type": "code",
   "execution_count": null,
   "metadata": {},
   "outputs": [],
   "source": []
  }
 ],
 "metadata": {
  "kernelspec": {
   "display_name": "Python 3",
   "language": "python",
   "name": "python3"
  },
  "language_info": {
   "codemirror_mode": {
    "name": "ipython",
    "version": 3
   },
   "file_extension": ".py",
   "mimetype": "text/x-python",
   "name": "python",
   "nbconvert_exporter": "python",
   "pygments_lexer": "ipython3",
   "version": "3.6.5"
  }
 },
 "nbformat": 4,
 "nbformat_minor": 2
}
